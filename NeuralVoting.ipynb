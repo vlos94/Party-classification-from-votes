{
 "cells": [
  {
   "cell_type": "code",
   "execution_count": 135,
   "metadata": {
    "collapsed": true
   },
   "outputs": [],
   "source": [
    "import keras\n",
    "import numpy as np\n",
    "import pandas as pd\n",
    "import matplotlib.pyplot as plt\n",
    "from sklearn.model_selection import train_test_split\n",
    "from keras.models import Sequential\n",
    "from keras.layers import Dense, Activation\n",
    "from keras.utils import to_categorical"
   ]
  },
  {
   "cell_type": "code",
   "execution_count": 136,
   "metadata": {
    "collapsed": true
   },
   "outputs": [],
   "source": [
    "data = pd.read_csv('data/house-votes-84.data.txt')"
   ]
  },
  {
   "cell_type": "code",
   "execution_count": 137,
   "metadata": {},
   "outputs": [
    {
     "data": {
      "text/plain": [
       "(434, 17)"
      ]
     },
     "execution_count": 137,
     "metadata": {},
     "output_type": "execute_result"
    }
   ],
   "source": [
    "data.shape"
   ]
  },
  {
   "cell_type": "code",
   "execution_count": 138,
   "metadata": {
    "collapsed": true
   },
   "outputs": [],
   "source": [
    "##Convert labels from strings to integer codes\n",
    "labels = data.iloc[:, 0]\n",
    "party_to_int = dict([('democrat', 0), ('republican', 1)])\n",
    "labels = labels.map(party_to_int)\n",
    "labels.values.reshape((434, 1))\n",
    "labels = keras.utils.to_categorical(labels)\n",
    "\n",
    "##And drop the column we don't need anymore\n",
    "data.drop(['republican'], axis=1, inplace=True)\n"
   ]
  },
  {
   "cell_type": "code",
   "execution_count": 139,
   "metadata": {
    "collapsed": true
   },
   "outputs": [],
   "source": [
    "##Now to convert results of the votes also\n",
    "vote_to_int = dict([('y', 1), ('?', 0), ('n', -1)])\n",
    "\n",
    "\n",
    "##While map can take a dict, applymap can only take functions.\n",
    "##applymap does apply(data, f), not map(data, f) and apply, unlike map, can only take functions\n",
    "##Jump around that with a little lambda function magic\n",
    "data = data.applymap(lambda v: vote_to_int[v])\n",
    "\n",
    "\n"
   ]
  },
  {
   "cell_type": "code",
   "execution_count": 140,
   "metadata": {
    "collapsed": true
   },
   "outputs": [],
   "source": [
    "train, test, train_labels, test_labels = train_test_split(data, labels, train_size=0.85, test_size=0.15)"
   ]
  },
  {
   "cell_type": "code",
   "execution_count": 141,
   "metadata": {
    "collapsed": true
   },
   "outputs": [],
   "source": [
    "model = Sequential([\n",
    "    Dense(7, input_shape = (16,)),\n",
    "    Activation('relu'),\n",
    "    Dense(2),\n",
    "    Activation('softmax'),\n",
    "])"
   ]
  },
  {
   "cell_type": "code",
   "execution_count": 142,
   "metadata": {
    "collapsed": true
   },
   "outputs": [],
   "source": [
    "model.compile(optimizer='sgd',\n",
    "              loss='binary_crossentropy',\n",
    "              metrics=['accuracy'])"
   ]
  },
  {
   "cell_type": "code",
   "execution_count": 143,
   "metadata": {},
   "outputs": [
    {
     "name": "stdout",
     "output_type": "stream",
     "text": [
      "Train on 312 samples, validate on 56 samples\n",
      "Epoch 1/10\n",
      " - 0s - loss: 0.3024 - acc: 0.8654 - val_loss: 0.2310 - val_acc: 0.9107\n",
      "Epoch 2/10\n",
      " - 0s - loss: 0.1541 - acc: 0.9455 - val_loss: 0.1877 - val_acc: 0.9286\n",
      "Epoch 3/10\n",
      " - 0s - loss: 0.1206 - acc: 0.9583 - val_loss: 0.1560 - val_acc: 0.9286\n",
      "Epoch 4/10\n",
      " - 0s - loss: 0.0991 - acc: 0.9583 - val_loss: 0.1400 - val_acc: 0.9464\n",
      "Epoch 5/10\n",
      " - 0s - loss: 0.0874 - acc: 0.9647 - val_loss: 0.1389 - val_acc: 0.9286\n",
      "Epoch 6/10\n",
      " - 0s - loss: 0.0777 - acc: 0.9679 - val_loss: 0.1348 - val_acc: 0.9286\n",
      "Epoch 7/10\n",
      " - 0s - loss: 0.0701 - acc: 0.9744 - val_loss: 0.1345 - val_acc: 0.9286\n",
      "Epoch 8/10\n",
      " - 0s - loss: 0.0643 - acc: 0.9744 - val_loss: 0.1321 - val_acc: 0.9464\n",
      "Epoch 9/10\n",
      " - 0s - loss: 0.0592 - acc: 0.9840 - val_loss: 0.1334 - val_acc: 0.9464\n",
      "Epoch 10/10\n",
      " - 0s - loss: 0.0547 - acc: 0.9808 - val_loss: 0.1333 - val_acc: 0.9464\n"
     ]
    },
    {
     "data": {
      "text/plain": [
       "<keras.callbacks.History at 0x1c1a1d6f60>"
      ]
     },
     "execution_count": 143,
     "metadata": {},
     "output_type": "execute_result"
    }
   ],
   "source": [
    "model.fit(x=train, y=train_labels, batch_size=1, epochs=10, verbose=2, validation_split=0.15)"
   ]
  },
  {
   "cell_type": "code",
   "execution_count": 145,
   "metadata": {},
   "outputs": [
    {
     "name": "stdout",
     "output_type": "stream",
     "text": [
      "The accuracy on the test set is: 0.9696969985961914\n"
     ]
    }
   ],
   "source": [
    "test_score = model.test_on_batch(test, test_labels)\n",
    "print(\"The accuracy on the test set is:\", test_score[1])"
   ]
  },
  {
   "cell_type": "code",
   "execution_count": null,
   "metadata": {
    "collapsed": true
   },
   "outputs": [],
   "source": []
  },
  {
   "cell_type": "code",
   "execution_count": null,
   "metadata": {
    "collapsed": true
   },
   "outputs": [],
   "source": []
  },
  {
   "cell_type": "code",
   "execution_count": null,
   "metadata": {
    "collapsed": true
   },
   "outputs": [],
   "source": []
  },
  {
   "cell_type": "code",
   "execution_count": null,
   "metadata": {
    "collapsed": true
   },
   "outputs": [],
   "source": []
  },
  {
   "cell_type": "code",
   "execution_count": null,
   "metadata": {
    "collapsed": true
   },
   "outputs": [],
   "source": []
  },
  {
   "cell_type": "code",
   "execution_count": null,
   "metadata": {
    "collapsed": true
   },
   "outputs": [],
   "source": []
  },
  {
   "cell_type": "code",
   "execution_count": null,
   "metadata": {
    "collapsed": true
   },
   "outputs": [],
   "source": []
  },
  {
   "cell_type": "code",
   "execution_count": null,
   "metadata": {
    "collapsed": true
   },
   "outputs": [],
   "source": []
  }
 ],
 "metadata": {
  "kernelspec": {
   "display_name": "Python 3",
   "language": "python",
   "name": "python3"
  },
  "language_info": {
   "codemirror_mode": {
    "name": "ipython",
    "version": 3
   },
   "file_extension": ".py",
   "mimetype": "text/x-python",
   "name": "python",
   "nbconvert_exporter": "python",
   "pygments_lexer": "ipython3",
   "version": "3.6.2"
  }
 },
 "nbformat": 4,
 "nbformat_minor": 2
}
